{
 "cells": [
  {
   "cell_type": "markdown",
   "metadata": {},
   "source": [
    "# 1. Visual inspection of data.\n",
    "This code example shows steps followed for the inspection of the data. The data used is job_application_filings from New york."
   ]
  },
  {
   "cell_type": "code",
   "execution_count": 6,
   "metadata": {},
   "outputs": [
    {
     "name": "stderr",
     "output_type": "stream",
     "text": [
      "/home/oluwabukunmi/anaconda3/lib/python3.6/site-packages/IPython/core/interactiveshell.py:2728: DtypeWarning: Columns (16) have mixed types. Specify dtype option on import or set low_memory=False.\n",
      "  interactivity=interactivity, compiler=compiler, result=result)\n"
     ]
    }
   ],
   "source": [
    "import pandas as pd \n",
    "import numpy as np\n",
    "df = pd.read_csv('dob_job_application_filings_subset.csv')"
   ]
  },
  {
   "cell_type": "code",
   "execution_count": 4,
   "metadata": {
    "scrolled": true
   },
   "outputs": [
    {
     "name": "stdout",
     "output_type": "stream",
     "text": [
      "       Job #  Doc #        Borough       House #  \\\n",
      "0  121577873      2      MANHATTAN  386            \n",
      "1  520129502      1  STATEN ISLAND  107            \n",
      "2  121601560      1      MANHATTAN  63             \n",
      "3  121601203      1      MANHATTAN  48             \n",
      "4  121601338      1      MANHATTAN  45             \n",
      "\n",
      "                        Street Name  Block  Lot    Bin # Job Type Job Status  \\\n",
      "0  PARK AVENUE SOUTH                   857   38  1016890       A2          D   \n",
      "1  KNOX PLACE                          342    1  5161350       A3          A   \n",
      "2  WEST 131 STREET                    1729    9  1053831       A2          Q   \n",
      "3  WEST 25TH STREET                    826   69  1015610       A2          D   \n",
      "4  WEST 29 STREET                      831    7  1015754       A3          D   \n",
      "\n",
      "            ...                         Owner's Last Name  \\\n",
      "0           ...            MIGLIORE                         \n",
      "1           ...            BLUMENBERG                       \n",
      "2           ...            MARKOWITZ                        \n",
      "3           ...            CASALE                           \n",
      "4           ...            LEE                              \n",
      "\n",
      "              Owner's Business Name Owner's House Number  \\\n",
      "0  MACKLOWE MANAGEMENT                      126            \n",
      "1  NA                                       107            \n",
      "2  635 RIVERSIDE DRIVE NY LLC               619            \n",
      "3  48 W 25 ST LLC C/O BERNSTEIN             150            \n",
      "4  HYUNG-HYANG REALTY CORP                  614            \n",
      "\n",
      "           Owner'sHouse Street Name            City  State    Zip  \\\n",
      "0  EAST 56TH STREET                  NEW YORK           NY  10222   \n",
      "1  KNOX PLACE                        STATEN ISLAND      NY  10314   \n",
      "2  WEST 54TH STREET                  NEW YORK           NY  10016   \n",
      "3  WEST 30TH STREET                  NEW YORK           NY  10001   \n",
      "4  8 AVENUE                          NEW YORK           NY  10001   \n",
      "\n",
      "  Owner'sPhone #                                    Job Description  \\\n",
      "0     2125545837  GENERAL MECHANICAL & PLUMBING MODIFICATIONS AS...   \n",
      "1     3477398892  BUILDERS PAVEMENT PLAN 143 LF.                ...   \n",
      "2     2127652555  GENERAL CONSTRUCTION TO INCLUDE NEW PARTITIONS...   \n",
      "3     2125941414  STRUCTURAL CHANGES ON THE 5TH FLOOR (MOONDOG E...   \n",
      "4     2019881222  FILING HEREWITH FACADE REPAIR PLANS. WORK SCOP...   \n",
      "\n",
      "               DOBRunDate  \n",
      "0  04/26/2013 12:00:00 AM  \n",
      "1  04/26/2013 12:00:00 AM  \n",
      "2  04/26/2013 12:00:00 AM  \n",
      "3  04/26/2013 12:00:00 AM  \n",
      "4  04/26/2013 12:00:00 AM  \n",
      "\n",
      "[5 rows x 82 columns]\n"
     ]
    }
   ],
   "source": [
    "print(df.head())"
   ]
  },
  {
   "cell_type": "code",
   "execution_count": 10,
   "metadata": {},
   "outputs": [
    {
     "data": {
      "text/html": [
       "<div>\n",
       "<style scoped>\n",
       "    .dataframe tbody tr th:only-of-type {\n",
       "        vertical-align: middle;\n",
       "    }\n",
       "\n",
       "    .dataframe tbody tr th {\n",
       "        vertical-align: top;\n",
       "    }\n",
       "\n",
       "    .dataframe thead th {\n",
       "        text-align: right;\n",
       "    }\n",
       "</style>\n",
       "<table border=\"1\" class=\"dataframe\">\n",
       "  <thead>\n",
       "    <tr style=\"text-align: right;\">\n",
       "      <th></th>\n",
       "      <th>Job #</th>\n",
       "      <th>Doc #</th>\n",
       "      <th>Borough</th>\n",
       "      <th>House #</th>\n",
       "      <th>Street Name</th>\n",
       "      <th>Block</th>\n",
       "      <th>Lot</th>\n",
       "      <th>Bin #</th>\n",
       "      <th>Job Type</th>\n",
       "      <th>Job Status</th>\n",
       "      <th>...</th>\n",
       "      <th>Owner's Last Name</th>\n",
       "      <th>Owner's Business Name</th>\n",
       "      <th>Owner's House Number</th>\n",
       "      <th>Owner'sHouse Street Name</th>\n",
       "      <th>City</th>\n",
       "      <th>State</th>\n",
       "      <th>Zip</th>\n",
       "      <th>Owner'sPhone #</th>\n",
       "      <th>Job Description</th>\n",
       "      <th>DOBRunDate</th>\n",
       "    </tr>\n",
       "  </thead>\n",
       "  <tbody>\n",
       "    <tr>\n",
       "      <th>12841</th>\n",
       "      <td>520143988</td>\n",
       "      <td>1</td>\n",
       "      <td>STATEN ISLAND</td>\n",
       "      <td>8</td>\n",
       "      <td>NOEL STREET</td>\n",
       "      <td>5382</td>\n",
       "      <td>20</td>\n",
       "      <td>5069722</td>\n",
       "      <td>A2</td>\n",
       "      <td>D</td>\n",
       "      <td>...</td>\n",
       "      <td>MALITO</td>\n",
       "      <td>GENO MALITO</td>\n",
       "      <td>8</td>\n",
       "      <td>NOEL STREET</td>\n",
       "      <td>STATEN ISLAND</td>\n",
       "      <td>NY</td>\n",
       "      <td>10312</td>\n",
       "      <td>9174685659</td>\n",
       "      <td>HORIZONTAL ENLARGEMENT OF ATTACHED ONE CAR GAR...</td>\n",
       "      <td>06/13/2013 12:00:00 AM</td>\n",
       "    </tr>\n",
       "    <tr>\n",
       "      <th>12842</th>\n",
       "      <td>121613833</td>\n",
       "      <td>1</td>\n",
       "      <td>MANHATTAN</td>\n",
       "      <td>724</td>\n",
       "      <td>10 AVENUE</td>\n",
       "      <td>1059</td>\n",
       "      <td>4</td>\n",
       "      <td>1082503</td>\n",
       "      <td>A2</td>\n",
       "      <td>D</td>\n",
       "      <td>...</td>\n",
       "      <td>CROMAN</td>\n",
       "      <td>722-724 10TH AVENUE HOLDING LLC</td>\n",
       "      <td>632</td>\n",
       "      <td>BROADWAY</td>\n",
       "      <td>NEW YORK</td>\n",
       "      <td>NY</td>\n",
       "      <td>10012</td>\n",
       "      <td>2122289300</td>\n",
       "      <td>RENOVATION OF EXISTING APARTMENT #3B ON THIRD ...</td>\n",
       "      <td>06/13/2013 12:00:00 AM</td>\n",
       "    </tr>\n",
       "    <tr>\n",
       "      <th>12843</th>\n",
       "      <td>121681260</td>\n",
       "      <td>1</td>\n",
       "      <td>MANHATTAN</td>\n",
       "      <td>350</td>\n",
       "      <td>MANHATTAN AVE.</td>\n",
       "      <td>1848</td>\n",
       "      <td>31</td>\n",
       "      <td>1055849</td>\n",
       "      <td>A2</td>\n",
       "      <td>A</td>\n",
       "      <td>...</td>\n",
       "      <td>ARYEH</td>\n",
       "      <td>DG UWS LLC</td>\n",
       "      <td>619</td>\n",
       "      <td>WEST 54TH STREET</td>\n",
       "      <td>NEW YORK</td>\n",
       "      <td>NY</td>\n",
       "      <td>10019</td>\n",
       "      <td>2127652555</td>\n",
       "      <td>REPLACE BURNER IN EXSTG BOILER WITH NEW GAS BU...</td>\n",
       "      <td>06/13/2013 12:00:00 AM</td>\n",
       "    </tr>\n",
       "    <tr>\n",
       "      <th>12844</th>\n",
       "      <td>320771704</td>\n",
       "      <td>1</td>\n",
       "      <td>BROOKLYN</td>\n",
       "      <td>499</td>\n",
       "      <td>UNION STREET</td>\n",
       "      <td>431</td>\n",
       "      <td>43</td>\n",
       "      <td>3007185</td>\n",
       "      <td>A2</td>\n",
       "      <td>D</td>\n",
       "      <td>...</td>\n",
       "      <td>WIGGINS</td>\n",
       "      <td>N/A</td>\n",
       "      <td>77</td>\n",
       "      <td>PROSPECT PLACE</td>\n",
       "      <td>BROOKLYN</td>\n",
       "      <td>NY</td>\n",
       "      <td>11217</td>\n",
       "      <td>9178487799</td>\n",
       "      <td>INSTALL NEW SPRINKLER SYSTEM THROUGHOUT THE BU...</td>\n",
       "      <td>06/13/2013 12:00:00 AM</td>\n",
       "    </tr>\n",
       "    <tr>\n",
       "      <th>12845</th>\n",
       "      <td>520143951</td>\n",
       "      <td>1</td>\n",
       "      <td>STATEN ISLAND</td>\n",
       "      <td>1755</td>\n",
       "      <td>RICHMOND ROAD</td>\n",
       "      <td>887</td>\n",
       "      <td>28</td>\n",
       "      <td>5022931</td>\n",
       "      <td>A2</td>\n",
       "      <td>D</td>\n",
       "      <td>...</td>\n",
       "      <td>CAMBRIA</td>\n",
       "      <td>RONALD CAMBRIA</td>\n",
       "      <td>1755</td>\n",
       "      <td>RICHMOND ROAD</td>\n",
       "      <td>STATEN ISLAND</td>\n",
       "      <td>NY</td>\n",
       "      <td>10304</td>\n",
       "      <td>7184482740</td>\n",
       "      <td>INTERIOR PARTITIONS AND MINOR PLUMBING WORK TO...</td>\n",
       "      <td>06/13/2013 12:00:00 AM</td>\n",
       "    </tr>\n",
       "  </tbody>\n",
       "</table>\n",
       "<p>5 rows × 82 columns</p>\n",
       "</div>"
      ],
      "text/plain": [
       "           Job #  Doc #        Borough       House #  \\\n",
       "12841  520143988      1  STATEN ISLAND  8              \n",
       "12842  121613833      1      MANHATTAN  724            \n",
       "12843  121681260      1      MANHATTAN  350            \n",
       "12844  320771704      1       BROOKLYN  499            \n",
       "12845  520143951      1  STATEN ISLAND  1755           \n",
       "\n",
       "                            Street Name  Block  Lot    Bin # Job Type  \\\n",
       "12841  NOEL STREET                        5382   20  5069722       A2   \n",
       "12842  10 AVENUE                          1059    4  1082503       A2   \n",
       "12843  MANHATTAN AVE.                     1848   31  1055849       A2   \n",
       "12844  UNION STREET                        431   43  3007185       A2   \n",
       "12845  RICHMOND ROAD                       887   28  5022931       A2   \n",
       "\n",
       "      Job Status           ...                         Owner's Last Name  \\\n",
       "12841          D           ...            MALITO                           \n",
       "12842          D           ...            CROMAN                           \n",
       "12843          A           ...            ARYEH                            \n",
       "12844          D           ...            WIGGINS                          \n",
       "12845          D           ...            CAMBRIA                          \n",
       "\n",
       "                  Owner's Business Name Owner's House Number  \\\n",
       "12841  GENO MALITO                              8              \n",
       "12842  722-724 10TH AVENUE HOLDING LLC          632            \n",
       "12843  DG UWS LLC                               619            \n",
       "12844  N/A                                      77             \n",
       "12845  RONALD CAMBRIA                           1755           \n",
       "\n",
       "               Owner'sHouse Street Name            City  State    Zip  \\\n",
       "12841  NOEL STREET                       STATEN ISLAND      NY  10312   \n",
       "12842  BROADWAY                          NEW YORK           NY  10012   \n",
       "12843  WEST 54TH STREET                  NEW YORK           NY  10019   \n",
       "12844  PROSPECT PLACE                    BROOKLYN           NY  11217   \n",
       "12845  RICHMOND ROAD                     STATEN ISLAND      NY  10304   \n",
       "\n",
       "      Owner'sPhone #                                    Job Description  \\\n",
       "12841     9174685659  HORIZONTAL ENLARGEMENT OF ATTACHED ONE CAR GAR...   \n",
       "12842     2122289300  RENOVATION OF EXISTING APARTMENT #3B ON THIRD ...   \n",
       "12843     2127652555  REPLACE BURNER IN EXSTG BOILER WITH NEW GAS BU...   \n",
       "12844     9178487799  INSTALL NEW SPRINKLER SYSTEM THROUGHOUT THE BU...   \n",
       "12845     7184482740  INTERIOR PARTITIONS AND MINOR PLUMBING WORK TO...   \n",
       "\n",
       "                   DOBRunDate  \n",
       "12841  06/13/2013 12:00:00 AM  \n",
       "12842  06/13/2013 12:00:00 AM  \n",
       "12843  06/13/2013 12:00:00 AM  \n",
       "12844  06/13/2013 12:00:00 AM  \n",
       "12845  06/13/2013 12:00:00 AM  \n",
       "\n",
       "[5 rows x 82 columns]"
      ]
     },
     "execution_count": 10,
     "metadata": {},
     "output_type": "execute_result"
    }
   ],
   "source": [
    "df.tail()"
   ]
  },
  {
   "cell_type": "markdown",
   "metadata": {},
   "source": [
    "# 2. Summary Statistics \n"
   ]
  },
  {
   "cell_type": "code",
   "execution_count": 9,
   "metadata": {},
   "outputs": [
    {
     "data": {
      "text/html": [
       "<div>\n",
       "<style scoped>\n",
       "    .dataframe tbody tr th:only-of-type {\n",
       "        vertical-align: middle;\n",
       "    }\n",
       "\n",
       "    .dataframe tbody tr th {\n",
       "        vertical-align: top;\n",
       "    }\n",
       "\n",
       "    .dataframe thead th {\n",
       "        text-align: right;\n",
       "    }\n",
       "</style>\n",
       "<table border=\"1\" class=\"dataframe\">\n",
       "  <thead>\n",
       "    <tr style=\"text-align: right;\">\n",
       "      <th></th>\n",
       "      <th>Job #</th>\n",
       "      <th>Doc #</th>\n",
       "      <th>Block</th>\n",
       "      <th>Lot</th>\n",
       "      <th>Bin #</th>\n",
       "      <th>Cluster</th>\n",
       "      <th>PC Filed</th>\n",
       "      <th>Existing Zoning Sqft</th>\n",
       "      <th>Proposed Zoning Sqft</th>\n",
       "      <th>Enlargement SQ Footage</th>\n",
       "      <th>Street Frontage</th>\n",
       "      <th>ExistingNo. of Stories</th>\n",
       "      <th>Proposed No. of Stories</th>\n",
       "      <th>Existing Height</th>\n",
       "      <th>Proposed Height</th>\n",
       "      <th>Owner Type</th>\n",
       "      <th>Zip</th>\n",
       "      <th>Owner'sPhone #</th>\n",
       "    </tr>\n",
       "  </thead>\n",
       "  <tbody>\n",
       "    <tr>\n",
       "      <th>count</th>\n",
       "      <td>1.284600e+04</td>\n",
       "      <td>12846.000000</td>\n",
       "      <td>12846.000000</td>\n",
       "      <td>12846.000000</td>\n",
       "      <td>1.284600e+04</td>\n",
       "      <td>0.0</td>\n",
       "      <td>0.0</td>\n",
       "      <td>1.284600e+04</td>\n",
       "      <td>1.284600e+04</td>\n",
       "      <td>12846.000000</td>\n",
       "      <td>12846.000000</td>\n",
       "      <td>12846.000000</td>\n",
       "      <td>12846.000000</td>\n",
       "      <td>12846.000000</td>\n",
       "      <td>12846.000000</td>\n",
       "      <td>0.0</td>\n",
       "      <td>1.284600e+04</td>\n",
       "      <td>1.284600e+04</td>\n",
       "    </tr>\n",
       "    <tr>\n",
       "      <th>mean</th>\n",
       "      <td>2.426788e+08</td>\n",
       "      <td>1.162930</td>\n",
       "      <td>2703.834735</td>\n",
       "      <td>623.303441</td>\n",
       "      <td>2.314997e+06</td>\n",
       "      <td>NaN</td>\n",
       "      <td>NaN</td>\n",
       "      <td>1.439973e+03</td>\n",
       "      <td>2.007286e+03</td>\n",
       "      <td>46.101432</td>\n",
       "      <td>3.069360</td>\n",
       "      <td>8.062354</td>\n",
       "      <td>8.144325</td>\n",
       "      <td>94.022809</td>\n",
       "      <td>94.917562</td>\n",
       "      <td>NaN</td>\n",
       "      <td>1.210268e+06</td>\n",
       "      <td>5.025739e+09</td>\n",
       "    </tr>\n",
       "    <tr>\n",
       "      <th>std</th>\n",
       "      <td>1.312507e+08</td>\n",
       "      <td>0.514937</td>\n",
       "      <td>3143.002812</td>\n",
       "      <td>2000.934794</td>\n",
       "      <td>1.399062e+06</td>\n",
       "      <td>NaN</td>\n",
       "      <td>NaN</td>\n",
       "      <td>3.860757e+04</td>\n",
       "      <td>4.081570e+04</td>\n",
       "      <td>784.216569</td>\n",
       "      <td>37.246034</td>\n",
       "      <td>11.874080</td>\n",
       "      <td>11.843492</td>\n",
       "      <td>146.917360</td>\n",
       "      <td>146.580666</td>\n",
       "      <td>NaN</td>\n",
       "      <td>1.343588e+07</td>\n",
       "      <td>2.738212e+09</td>\n",
       "    </tr>\n",
       "    <tr>\n",
       "      <th>min</th>\n",
       "      <td>1.036438e+08</td>\n",
       "      <td>1.000000</td>\n",
       "      <td>1.000000</td>\n",
       "      <td>0.000000</td>\n",
       "      <td>1.000003e+06</td>\n",
       "      <td>NaN</td>\n",
       "      <td>NaN</td>\n",
       "      <td>0.000000e+00</td>\n",
       "      <td>0.000000e+00</td>\n",
       "      <td>0.000000</td>\n",
       "      <td>0.000000</td>\n",
       "      <td>0.000000</td>\n",
       "      <td>0.000000</td>\n",
       "      <td>0.000000</td>\n",
       "      <td>0.000000</td>\n",
       "      <td>NaN</td>\n",
       "      <td>8.300000e+02</td>\n",
       "      <td>0.000000e+00</td>\n",
       "    </tr>\n",
       "    <tr>\n",
       "      <th>25%</th>\n",
       "      <td>1.216206e+08</td>\n",
       "      <td>1.000000</td>\n",
       "      <td>836.000000</td>\n",
       "      <td>12.000000</td>\n",
       "      <td>1.035728e+06</td>\n",
       "      <td>NaN</td>\n",
       "      <td>NaN</td>\n",
       "      <td>0.000000e+00</td>\n",
       "      <td>0.000000e+00</td>\n",
       "      <td>0.000000</td>\n",
       "      <td>0.000000</td>\n",
       "      <td>1.000000</td>\n",
       "      <td>2.000000</td>\n",
       "      <td>20.000000</td>\n",
       "      <td>21.000000</td>\n",
       "      <td>NaN</td>\n",
       "      <td>1.001900e+04</td>\n",
       "      <td>2.126841e+09</td>\n",
       "    </tr>\n",
       "    <tr>\n",
       "      <th>50%</th>\n",
       "      <td>2.202645e+08</td>\n",
       "      <td>1.000000</td>\n",
       "      <td>1411.500000</td>\n",
       "      <td>32.000000</td>\n",
       "      <td>2.004234e+06</td>\n",
       "      <td>NaN</td>\n",
       "      <td>NaN</td>\n",
       "      <td>0.000000e+00</td>\n",
       "      <td>0.000000e+00</td>\n",
       "      <td>0.000000</td>\n",
       "      <td>0.000000</td>\n",
       "      <td>4.000000</td>\n",
       "      <td>4.000000</td>\n",
       "      <td>45.000000</td>\n",
       "      <td>45.000000</td>\n",
       "      <td>NaN</td>\n",
       "      <td>1.031000e+04</td>\n",
       "      <td>5.169379e+09</td>\n",
       "    </tr>\n",
       "    <tr>\n",
       "      <th>75%</th>\n",
       "      <td>3.208652e+08</td>\n",
       "      <td>1.000000</td>\n",
       "      <td>3355.000000</td>\n",
       "      <td>59.000000</td>\n",
       "      <td>3.343823e+06</td>\n",
       "      <td>NaN</td>\n",
       "      <td>NaN</td>\n",
       "      <td>0.000000e+00</td>\n",
       "      <td>0.000000e+00</td>\n",
       "      <td>0.000000</td>\n",
       "      <td>0.000000</td>\n",
       "      <td>9.000000</td>\n",
       "      <td>9.000000</td>\n",
       "      <td>105.000000</td>\n",
       "      <td>107.000000</td>\n",
       "      <td>NaN</td>\n",
       "      <td>1.122100e+04</td>\n",
       "      <td>7.186809e+09</td>\n",
       "    </tr>\n",
       "    <tr>\n",
       "      <th>max</th>\n",
       "      <td>5.400246e+08</td>\n",
       "      <td>9.000000</td>\n",
       "      <td>99999.000000</td>\n",
       "      <td>9078.000000</td>\n",
       "      <td>5.864852e+06</td>\n",
       "      <td>NaN</td>\n",
       "      <td>NaN</td>\n",
       "      <td>2.873107e+06</td>\n",
       "      <td>2.873107e+06</td>\n",
       "      <td>50384.000000</td>\n",
       "      <td>3160.000000</td>\n",
       "      <td>102.000000</td>\n",
       "      <td>102.000000</td>\n",
       "      <td>4200.000000</td>\n",
       "      <td>4200.000000</td>\n",
       "      <td>NaN</td>\n",
       "      <td>6.063135e+08</td>\n",
       "      <td>9.787266e+09</td>\n",
       "    </tr>\n",
       "  </tbody>\n",
       "</table>\n",
       "</div>"
      ],
      "text/plain": [
       "              Job #         Doc #         Block           Lot         Bin #  \\\n",
       "count  1.284600e+04  12846.000000  12846.000000  12846.000000  1.284600e+04   \n",
       "mean   2.426788e+08      1.162930   2703.834735    623.303441  2.314997e+06   \n",
       "std    1.312507e+08      0.514937   3143.002812   2000.934794  1.399062e+06   \n",
       "min    1.036438e+08      1.000000      1.000000      0.000000  1.000003e+06   \n",
       "25%    1.216206e+08      1.000000    836.000000     12.000000  1.035728e+06   \n",
       "50%    2.202645e+08      1.000000   1411.500000     32.000000  2.004234e+06   \n",
       "75%    3.208652e+08      1.000000   3355.000000     59.000000  3.343823e+06   \n",
       "max    5.400246e+08      9.000000  99999.000000   9078.000000  5.864852e+06   \n",
       "\n",
       "       Cluster  PC Filed  Existing Zoning Sqft  Proposed Zoning Sqft  \\\n",
       "count      0.0       0.0          1.284600e+04          1.284600e+04   \n",
       "mean       NaN       NaN          1.439973e+03          2.007286e+03   \n",
       "std        NaN       NaN          3.860757e+04          4.081570e+04   \n",
       "min        NaN       NaN          0.000000e+00          0.000000e+00   \n",
       "25%        NaN       NaN          0.000000e+00          0.000000e+00   \n",
       "50%        NaN       NaN          0.000000e+00          0.000000e+00   \n",
       "75%        NaN       NaN          0.000000e+00          0.000000e+00   \n",
       "max        NaN       NaN          2.873107e+06          2.873107e+06   \n",
       "\n",
       "       Enlargement SQ Footage  Street Frontage  ExistingNo. of Stories  \\\n",
       "count            12846.000000     12846.000000            12846.000000   \n",
       "mean                46.101432         3.069360                8.062354   \n",
       "std                784.216569        37.246034               11.874080   \n",
       "min                  0.000000         0.000000                0.000000   \n",
       "25%                  0.000000         0.000000                1.000000   \n",
       "50%                  0.000000         0.000000                4.000000   \n",
       "75%                  0.000000         0.000000                9.000000   \n",
       "max              50384.000000      3160.000000              102.000000   \n",
       "\n",
       "       Proposed No. of Stories  Existing Height  Proposed Height  Owner Type  \\\n",
       "count             12846.000000     12846.000000     12846.000000         0.0   \n",
       "mean                  8.144325        94.022809        94.917562         NaN   \n",
       "std                  11.843492       146.917360       146.580666         NaN   \n",
       "min                   0.000000         0.000000         0.000000         NaN   \n",
       "25%                   2.000000        20.000000        21.000000         NaN   \n",
       "50%                   4.000000        45.000000        45.000000         NaN   \n",
       "75%                   9.000000       105.000000       107.000000         NaN   \n",
       "max                 102.000000      4200.000000      4200.000000         NaN   \n",
       "\n",
       "                Zip  Owner'sPhone #  \n",
       "count  1.284600e+04    1.284600e+04  \n",
       "mean   1.210268e+06    5.025739e+09  \n",
       "std    1.343588e+07    2.738212e+09  \n",
       "min    8.300000e+02    0.000000e+00  \n",
       "25%    1.001900e+04    2.126841e+09  \n",
       "50%    1.031000e+04    5.169379e+09  \n",
       "75%    1.122100e+04    7.186809e+09  \n",
       "max    6.063135e+08    9.787266e+09  "
      ]
     },
     "execution_count": 9,
     "metadata": {},
     "output_type": "execute_result"
    }
   ],
   "source": [
    "df.describe()"
   ]
  },
  {
   "cell_type": "markdown",
   "metadata": {},
   "source": [
    "# 3. Converting to suitable data types \n",
    "This code example explains how to convert to suitable data types. "
   ]
  },
  {
   "cell_type": "code",
   "execution_count": 11,
   "metadata": {},
   "outputs": [
    {
     "data": {
      "text/html": [
       "<div>\n",
       "<style scoped>\n",
       "    .dataframe tbody tr th:only-of-type {\n",
       "        vertical-align: middle;\n",
       "    }\n",
       "\n",
       "    .dataframe tbody tr th {\n",
       "        vertical-align: top;\n",
       "    }\n",
       "\n",
       "    .dataframe thead th {\n",
       "        text-align: right;\n",
       "    }\n",
       "</style>\n",
       "<table border=\"1\" class=\"dataframe\">\n",
       "  <thead>\n",
       "    <tr style=\"text-align: right;\">\n",
       "      <th></th>\n",
       "      <th>total_bill</th>\n",
       "      <th>tip</th>\n",
       "      <th>sex</th>\n",
       "      <th>smoker</th>\n",
       "      <th>day</th>\n",
       "      <th>time</th>\n",
       "      <th>size</th>\n",
       "    </tr>\n",
       "  </thead>\n",
       "  <tbody>\n",
       "    <tr>\n",
       "      <th>0</th>\n",
       "      <td>16.99</td>\n",
       "      <td>1.01</td>\n",
       "      <td>Female</td>\n",
       "      <td>No</td>\n",
       "      <td>Sun</td>\n",
       "      <td>Dinner</td>\n",
       "      <td>2</td>\n",
       "    </tr>\n",
       "    <tr>\n",
       "      <th>1</th>\n",
       "      <td>10.34</td>\n",
       "      <td>1.66</td>\n",
       "      <td>Male</td>\n",
       "      <td>No</td>\n",
       "      <td>Sun</td>\n",
       "      <td>Dinner</td>\n",
       "      <td>3</td>\n",
       "    </tr>\n",
       "    <tr>\n",
       "      <th>2</th>\n",
       "      <td>21.01</td>\n",
       "      <td>3.50</td>\n",
       "      <td>Male</td>\n",
       "      <td>No</td>\n",
       "      <td>Sun</td>\n",
       "      <td>Dinner</td>\n",
       "      <td>3</td>\n",
       "    </tr>\n",
       "    <tr>\n",
       "      <th>3</th>\n",
       "      <td>23.68</td>\n",
       "      <td>3.31</td>\n",
       "      <td>Male</td>\n",
       "      <td>No</td>\n",
       "      <td>Sun</td>\n",
       "      <td>Dinner</td>\n",
       "      <td>2</td>\n",
       "    </tr>\n",
       "    <tr>\n",
       "      <th>4</th>\n",
       "      <td>24.59</td>\n",
       "      <td>3.61</td>\n",
       "      <td>Female</td>\n",
       "      <td>No</td>\n",
       "      <td>Sun</td>\n",
       "      <td>Dinner</td>\n",
       "      <td>4</td>\n",
       "    </tr>\n",
       "  </tbody>\n",
       "</table>\n",
       "</div>"
      ],
      "text/plain": [
       "   total_bill   tip     sex smoker  day    time  size\n",
       "0       16.99  1.01  Female     No  Sun  Dinner     2\n",
       "1       10.34  1.66    Male     No  Sun  Dinner     3\n",
       "2       21.01  3.50    Male     No  Sun  Dinner     3\n",
       "3       23.68  3.31    Male     No  Sun  Dinner     2\n",
       "4       24.59  3.61  Female     No  Sun  Dinner     4"
      ]
     },
     "execution_count": 11,
     "metadata": {},
     "output_type": "execute_result"
    }
   ],
   "source": [
    "tips = pd.read_csv('tips.csv')\n",
    "tips.head()"
   ]
  },
  {
   "cell_type": "code",
   "execution_count": 13,
   "metadata": {},
   "outputs": [
    {
     "name": "stdout",
     "output_type": "stream",
     "text": [
      "<class 'pandas.core.frame.DataFrame'>\n",
      "RangeIndex: 244 entries, 0 to 243\n",
      "Data columns (total 7 columns):\n",
      "total_bill    244 non-null float64\n",
      "tip           244 non-null float64\n",
      "sex           244 non-null object\n",
      "smoker        244 non-null object\n",
      "day           244 non-null object\n",
      "time          244 non-null object\n",
      "size          244 non-null int64\n",
      "dtypes: float64(2), int64(1), object(4)\n",
      "memory usage: 13.4+ KB\n"
     ]
    }
   ],
   "source": [
    "tips.info()"
   ]
  },
  {
   "cell_type": "code",
   "execution_count": 14,
   "metadata": {},
   "outputs": [
    {
     "name": "stdout",
     "output_type": "stream",
     "text": [
      "<class 'pandas.core.frame.DataFrame'>\n",
      "RangeIndex: 244 entries, 0 to 243\n",
      "Data columns (total 7 columns):\n",
      "total_bill    244 non-null float64\n",
      "tip           244 non-null float64\n",
      "sex           244 non-null category\n",
      "smoker        244 non-null category\n",
      "day           244 non-null object\n",
      "time          244 non-null object\n",
      "size          244 non-null object\n",
      "dtypes: category(2), float64(2), object(3)\n",
      "memory usage: 10.3+ KB\n"
     ]
    }
   ],
   "source": [
    "# From the output, we can see the data file type in which each variable is stored. The sex and smoker column is supposed to be a catogorical datatype, but it's stored as a string, so we convert it to a categorical datatype using the code below\n",
    "tips.sex = tips.sex.astype('category')\n",
    "tips.smoker = tips.smoker.astype('category')\n",
    "tips.size = tips.size.astype('str')\n",
    "tips.info()"
   ]
  },
  {
   "cell_type": "markdown",
   "metadata": {},
   "source": [
    "We can see that it has been converted to a categorical data type. Categorical data type is better to store variables that usually has less than 5 outcomes because categorical datatypes makes the dataframe smaller hence saving memory. From our output above we can see that the memory usage has reduced from 13.4 kb to 10.3kb. The memory saved is usually more substancial for a larger dataframe. Also categorical datatype allows for logical ordering in place of lexicographical ordering"
   ]
  },
  {
   "cell_type": "code",
   "execution_count": null,
   "metadata": {},
   "outputs": [],
   "source": [
    "# Also from the ouput about we can see that size is stored as object, which is incorrect, size ought to be stored as numerical datatype. Hence we write a code to convert it to a numerical datatype\n",
    "import numpy as np\n",
    "#import the necessary numerical library.\n",
    "tips.size = pd.to_numeric(tips.size,errors ='coerce')\n",
    "# we used errors = coerce, this is because we are telling python to convert invalid values into NaN.\n",
    "tips.info()"
   ]
  },
  {
   "cell_type": "markdown",
   "metadata": {},
   "source": [
    "We can see that size is now stored as an integer which is a numeric datatype"
   ]
  },
  {
   "cell_type": "markdown",
   "metadata": {},
   "source": [
    "# 4 Frequency Count\n"
   ]
  },
  {
   "cell_type": "code",
   "execution_count": 16,
   "metadata": {},
   "outputs": [
    {
     "name": "stdout",
     "output_type": "stream",
     "text": [
      "MANHATTAN        6310\n",
      "BROOKLYN         2866\n",
      "QUEENS           2121\n",
      "BRONX             974\n",
      "STATEN ISLAND     575\n",
      "Name: Borough, dtype: int64\n"
     ]
    }
   ],
   "source": [
    "print(df['Borough'].value_counts(dropna=False))\n",
    "# We are counting the number of unique values in the Borough column of the NYC Job postings file. We used the dropna = False, because we want it to also count all NaN values if there is.\n"
   ]
  },
  {
   "cell_type": "markdown",
   "metadata": {},
   "source": [
    "# 5 Data Visualization using matplotlib "
   ]
  },
  {
   "cell_type": "code",
   "execution_count": 18,
   "metadata": {},
   "outputs": [
    {
     "data": {
      "image/png": "[encoded data removed]",
      "text/plain": [
       "<matplotlib.figure.Figure at 0x7efccde73cf8>"
      ]
     },
     "metadata": {},
     "output_type": "display_data"
    }
   ],
   "source": [
    "import matplotlib.pyplot as plt\n",
    "# import necessary library\n",
    "df['Existing Zoning Sqft'].plot(kind='hist', logx=True, logy=True)\n",
    "# We are plotting an histogram of Existing Zoning Sqft column, we used log on both axes because their values are large exponenetials.\n",
    "plt.show()"
   ]
  },
  {
   "cell_type": "code",
   "execution_count": 19,
   "metadata": {},
   "outputs": [
    {
     "data": {
      "image/png": "[encoded data removed]",
      "text/plain": [
       "<matplotlib.figure.Figure at 0x7efcd11378d0>"
      ]
     },
     "metadata": {},
     "output_type": "display_data"
    }
   ],
   "source": [
    "df.boxplot(column='Existing Zoning Sqft', by='Borough', rot=90)\n",
    "# We are plotting a boxplot of two non numeric datatypes column.\n",
    "plt.show()\n",
    "# From our plot we can see there are outliers, the boxplot has drawn our attention to this."
   ]
  },
  {
   "cell_type": "code",
   "execution_count": 20,
   "metadata": {},
   "outputs": [
    {
     "data": {
      "image/png": "[encoded data removed]",
      "text/plain": [
       "<matplotlib.figure.Figure at 0x7efccde6fc50>"
      ]
     },
     "metadata": {},
     "output_type": "display_data"
    }
   ],
   "source": [
    "df.plot(kind='scatter', x='ExistingNo. of Stories', y='Proposed No. of Stories', rot=90)\n",
    "# We are plotting a scatter diagram of a numeric against a numeric. Scatter plots are ideal for this comparisons between this datatype.\n",
    "plt.show()"
   ]
  },
  {
   "cell_type": "markdown",
   "metadata": {},
   "source": [
    "# 6. Checking for tidy data\n",
    "The data set used here is the ebola dataset that contains information about the disease form 2014 to 2015"
   ]
  },
  {
   "cell_type": "code",
   "execution_count": 21,
   "metadata": {},
   "outputs": [
    {
     "data": {
      "text/html": [
       "<div>\n",
       "<style scoped>\n",
       "    .dataframe tbody tr th:only-of-type {\n",
       "        vertical-align: middle;\n",
       "    }\n",
       "\n",
       "    .dataframe tbody tr th {\n",
       "        vertical-align: top;\n",
       "    }\n",
       "\n",
       "    .dataframe thead th {\n",
       "        text-align: right;\n",
       "    }\n",
       "</style>\n",
       "<table border=\"1\" class=\"dataframe\">\n",
       "  <thead>\n",
       "    <tr style=\"text-align: right;\">\n",
       "      <th></th>\n",
       "      <th>Date</th>\n",
       "      <th>Day</th>\n",
       "      <th>Cases_Guinea</th>\n",
       "      <th>Cases_Liberia</th>\n",
       "      <th>Cases_SierraLeone</th>\n",
       "      <th>Cases_Nigeria</th>\n",
       "      <th>Cases_Senegal</th>\n",
       "      <th>Cases_UnitedStates</th>\n",
       "      <th>Cases_Spain</th>\n",
       "      <th>Cases_Mali</th>\n",
       "      <th>Deaths_Guinea</th>\n",
       "      <th>Deaths_Liberia</th>\n",
       "      <th>Deaths_SierraLeone</th>\n",
       "      <th>Deaths_Nigeria</th>\n",
       "      <th>Deaths_Senegal</th>\n",
       "      <th>Deaths_UnitedStates</th>\n",
       "      <th>Deaths_Spain</th>\n",
       "      <th>Deaths_Mali</th>\n",
       "    </tr>\n",
       "  </thead>\n",
       "  <tbody>\n",
       "    <tr>\n",
       "      <th>0</th>\n",
       "      <td>1/5/2015</td>\n",
       "      <td>289</td>\n",
       "      <td>2776.0</td>\n",
       "      <td>NaN</td>\n",
       "      <td>10030.0</td>\n",
       "      <td>NaN</td>\n",
       "      <td>NaN</td>\n",
       "      <td>NaN</td>\n",
       "      <td>NaN</td>\n",
       "      <td>NaN</td>\n",
       "      <td>1786.0</td>\n",
       "      <td>NaN</td>\n",
       "      <td>2977.0</td>\n",
       "      <td>NaN</td>\n",
       "      <td>NaN</td>\n",
       "      <td>NaN</td>\n",
       "      <td>NaN</td>\n",
       "      <td>NaN</td>\n",
       "    </tr>\n",
       "    <tr>\n",
       "      <th>1</th>\n",
       "      <td>1/4/2015</td>\n",
       "      <td>288</td>\n",
       "      <td>2775.0</td>\n",
       "      <td>NaN</td>\n",
       "      <td>9780.0</td>\n",
       "      <td>NaN</td>\n",
       "      <td>NaN</td>\n",
       "      <td>NaN</td>\n",
       "      <td>NaN</td>\n",
       "      <td>NaN</td>\n",
       "      <td>1781.0</td>\n",
       "      <td>NaN</td>\n",
       "      <td>2943.0</td>\n",
       "      <td>NaN</td>\n",
       "      <td>NaN</td>\n",
       "      <td>NaN</td>\n",
       "      <td>NaN</td>\n",
       "      <td>NaN</td>\n",
       "    </tr>\n",
       "    <tr>\n",
       "      <th>2</th>\n",
       "      <td>1/3/2015</td>\n",
       "      <td>287</td>\n",
       "      <td>2769.0</td>\n",
       "      <td>8166.0</td>\n",
       "      <td>9722.0</td>\n",
       "      <td>NaN</td>\n",
       "      <td>NaN</td>\n",
       "      <td>NaN</td>\n",
       "      <td>NaN</td>\n",
       "      <td>NaN</td>\n",
       "      <td>1767.0</td>\n",
       "      <td>3496.0</td>\n",
       "      <td>2915.0</td>\n",
       "      <td>NaN</td>\n",
       "      <td>NaN</td>\n",
       "      <td>NaN</td>\n",
       "      <td>NaN</td>\n",
       "      <td>NaN</td>\n",
       "    </tr>\n",
       "    <tr>\n",
       "      <th>3</th>\n",
       "      <td>1/2/2015</td>\n",
       "      <td>286</td>\n",
       "      <td>NaN</td>\n",
       "      <td>8157.0</td>\n",
       "      <td>NaN</td>\n",
       "      <td>NaN</td>\n",
       "      <td>NaN</td>\n",
       "      <td>NaN</td>\n",
       "      <td>NaN</td>\n",
       "      <td>NaN</td>\n",
       "      <td>NaN</td>\n",
       "      <td>3496.0</td>\n",
       "      <td>NaN</td>\n",
       "      <td>NaN</td>\n",
       "      <td>NaN</td>\n",
       "      <td>NaN</td>\n",
       "      <td>NaN</td>\n",
       "      <td>NaN</td>\n",
       "    </tr>\n",
       "    <tr>\n",
       "      <th>4</th>\n",
       "      <td>12/31/2014</td>\n",
       "      <td>284</td>\n",
       "      <td>2730.0</td>\n",
       "      <td>8115.0</td>\n",
       "      <td>9633.0</td>\n",
       "      <td>NaN</td>\n",
       "      <td>NaN</td>\n",
       "      <td>NaN</td>\n",
       "      <td>NaN</td>\n",
       "      <td>NaN</td>\n",
       "      <td>1739.0</td>\n",
       "      <td>3471.0</td>\n",
       "      <td>2827.0</td>\n",
       "      <td>NaN</td>\n",
       "      <td>NaN</td>\n",
       "      <td>NaN</td>\n",
       "      <td>NaN</td>\n",
       "      <td>NaN</td>\n",
       "    </tr>\n",
       "  </tbody>\n",
       "</table>\n",
       "</div>"
      ],
      "text/plain": [
       "         Date  Day  Cases_Guinea  Cases_Liberia  Cases_SierraLeone  \\\n",
       "0    1/5/2015  289        2776.0            NaN            10030.0   \n",
       "1    1/4/2015  288        2775.0            NaN             9780.0   \n",
       "2    1/3/2015  287        2769.0         8166.0             9722.0   \n",
       "3    1/2/2015  286           NaN         8157.0                NaN   \n",
       "4  12/31/2014  284        2730.0         8115.0             9633.0   \n",
       "\n",
       "   Cases_Nigeria  Cases_Senegal  Cases_UnitedStates  Cases_Spain  Cases_Mali  \\\n",
       "0            NaN            NaN                 NaN          NaN         NaN   \n",
       "1            NaN            NaN                 NaN          NaN         NaN   \n",
       "2            NaN            NaN                 NaN          NaN         NaN   \n",
       "3            NaN            NaN                 NaN          NaN         NaN   \n",
       "4            NaN            NaN                 NaN          NaN         NaN   \n",
       "\n",
       "   Deaths_Guinea  Deaths_Liberia  Deaths_SierraLeone  Deaths_Nigeria  \\\n",
       "0         1786.0             NaN              2977.0             NaN   \n",
       "1         1781.0             NaN              2943.0             NaN   \n",
       "2         1767.0          3496.0              2915.0             NaN   \n",
       "3            NaN          3496.0                 NaN             NaN   \n",
       "4         1739.0          3471.0              2827.0             NaN   \n",
       "\n",
       "   Deaths_Senegal  Deaths_UnitedStates  Deaths_Spain  Deaths_Mali  \n",
       "0             NaN                  NaN           NaN          NaN  \n",
       "1             NaN                  NaN           NaN          NaN  \n",
       "2             NaN                  NaN           NaN          NaN  \n",
       "3             NaN                  NaN           NaN          NaN  \n",
       "4             NaN                  NaN           NaN          NaN  "
      ]
     },
     "execution_count": 21,
     "metadata": {},
     "output_type": "execute_result"
    }
   ],
   "source": [
    "ebola = pd.read_csv('ebola.csv')\n",
    "ebola.head()"
   ]
  },
  {
   "cell_type": "markdown",
   "metadata": {},
   "source": [
    "From the output of the code, we can see that the ebola dataset does not obey the tidy data principle, each column does not represent a seperate variable. We will resolve the issue of untidy data by melting. The step by step process is shown in the code example below.\n"
   ]
  },
  {
   "cell_type": "code",
   "execution_count": 22,
   "metadata": {},
   "outputs": [
    {
     "data": {
      "text/html": [
       "<div>\n",
       "<style scoped>\n",
       "    .dataframe tbody tr th:only-of-type {\n",
       "        vertical-align: middle;\n",
       "    }\n",
       "\n",
       "    .dataframe tbody tr th {\n",
       "        vertical-align: top;\n",
       "    }\n",
       "\n",
       "    .dataframe thead th {\n",
       "        text-align: right;\n",
       "    }\n",
       "</style>\n",
       "<table border=\"1\" class=\"dataframe\">\n",
       "  <thead>\n",
       "    <tr style=\"text-align: right;\">\n",
       "      <th></th>\n",
       "      <th>Date</th>\n",
       "      <th>Day</th>\n",
       "      <th>type_country</th>\n",
       "      <th>counts</th>\n",
       "    </tr>\n",
       "  </thead>\n",
       "  <tbody>\n",
       "    <tr>\n",
       "      <th>0</th>\n",
       "      <td>1/5/2015</td>\n",
       "      <td>289</td>\n",
       "      <td>Cases_Guinea</td>\n",
       "      <td>2776.0</td>\n",
       "    </tr>\n",
       "    <tr>\n",
       "      <th>1</th>\n",
       "      <td>1/4/2015</td>\n",
       "      <td>288</td>\n",
       "      <td>Cases_Guinea</td>\n",
       "      <td>2775.0</td>\n",
       "    </tr>\n",
       "    <tr>\n",
       "      <th>2</th>\n",
       "      <td>1/3/2015</td>\n",
       "      <td>287</td>\n",
       "      <td>Cases_Guinea</td>\n",
       "      <td>2769.0</td>\n",
       "    </tr>\n",
       "    <tr>\n",
       "      <th>3</th>\n",
       "      <td>1/2/2015</td>\n",
       "      <td>286</td>\n",
       "      <td>Cases_Guinea</td>\n",
       "      <td>NaN</td>\n",
       "    </tr>\n",
       "    <tr>\n",
       "      <th>4</th>\n",
       "      <td>12/31/2014</td>\n",
       "      <td>284</td>\n",
       "      <td>Cases_Guinea</td>\n",
       "      <td>2730.0</td>\n",
       "    </tr>\n",
       "  </tbody>\n",
       "</table>\n",
       "</div>"
      ],
      "text/plain": [
       "         Date  Day  type_country  counts\n",
       "0    1/5/2015  289  Cases_Guinea  2776.0\n",
       "1    1/4/2015  288  Cases_Guinea  2775.0\n",
       "2    1/3/2015  287  Cases_Guinea  2769.0\n",
       "3    1/2/2015  286  Cases_Guinea     NaN\n",
       "4  12/31/2014  284  Cases_Guinea  2730.0"
      ]
     },
     "execution_count": 22,
     "metadata": {},
     "output_type": "execute_result"
    }
   ],
   "source": [
    "ebola_melt = pd.melt(ebola, id_vars=['Date', 'Day'], var_name='type_country', value_name='counts')\n",
    "#id_vars are the columns we don't want to be affected by the melt action. var_name is the name of the new columns created \n",
    "ebola_melt.head()"
   ]
  },
  {
   "cell_type": "markdown",
   "metadata": {},
   "source": [
    "Now we have melted the dataset, all variables that contain country and type have been melted into one column, which is better for analysis."
   ]
  },
  {
   "cell_type": "code",
   "execution_count": 23,
   "metadata": {},
   "outputs": [
    {
     "data": {
      "text/html": [
       "<div>\n",
       "<style scoped>\n",
       "    .dataframe tbody tr th:only-of-type {\n",
       "        vertical-align: middle;\n",
       "    }\n",
       "\n",
       "    .dataframe tbody tr th {\n",
       "        vertical-align: top;\n",
       "    }\n",
       "\n",
       "    .dataframe thead th {\n",
       "        text-align: right;\n",
       "    }\n",
       "</style>\n",
       "<table border=\"1\" class=\"dataframe\">\n",
       "  <thead>\n",
       "    <tr style=\"text-align: right;\">\n",
       "      <th></th>\n",
       "      <th>Date</th>\n",
       "      <th>Day</th>\n",
       "      <th>type_country</th>\n",
       "      <th>counts</th>\n",
       "      <th>str_split</th>\n",
       "    </tr>\n",
       "  </thead>\n",
       "  <tbody>\n",
       "    <tr>\n",
       "      <th>0</th>\n",
       "      <td>1/5/2015</td>\n",
       "      <td>289</td>\n",
       "      <td>Cases_Guinea</td>\n",
       "      <td>2776.0</td>\n",
       "      <td>[Cases, Guinea]</td>\n",
       "    </tr>\n",
       "    <tr>\n",
       "      <th>1</th>\n",
       "      <td>1/4/2015</td>\n",
       "      <td>288</td>\n",
       "      <td>Cases_Guinea</td>\n",
       "      <td>2775.0</td>\n",
       "      <td>[Cases, Guinea]</td>\n",
       "    </tr>\n",
       "    <tr>\n",
       "      <th>2</th>\n",
       "      <td>1/3/2015</td>\n",
       "      <td>287</td>\n",
       "      <td>Cases_Guinea</td>\n",
       "      <td>2769.0</td>\n",
       "      <td>[Cases, Guinea]</td>\n",
       "    </tr>\n",
       "    <tr>\n",
       "      <th>3</th>\n",
       "      <td>1/2/2015</td>\n",
       "      <td>286</td>\n",
       "      <td>Cases_Guinea</td>\n",
       "      <td>NaN</td>\n",
       "      <td>[Cases, Guinea]</td>\n",
       "    </tr>\n",
       "    <tr>\n",
       "      <th>4</th>\n",
       "      <td>12/31/2014</td>\n",
       "      <td>284</td>\n",
       "      <td>Cases_Guinea</td>\n",
       "      <td>2730.0</td>\n",
       "      <td>[Cases, Guinea]</td>\n",
       "    </tr>\n",
       "  </tbody>\n",
       "</table>\n",
       "</div>"
      ],
      "text/plain": [
       "         Date  Day  type_country  counts        str_split\n",
       "0    1/5/2015  289  Cases_Guinea  2776.0  [Cases, Guinea]\n",
       "1    1/4/2015  288  Cases_Guinea  2775.0  [Cases, Guinea]\n",
       "2    1/3/2015  287  Cases_Guinea  2769.0  [Cases, Guinea]\n",
       "3    1/2/2015  286  Cases_Guinea     NaN  [Cases, Guinea]\n",
       "4  12/31/2014  284  Cases_Guinea  2730.0  [Cases, Guinea]"
      ]
     },
     "execution_count": 23,
     "metadata": {},
     "output_type": "execute_result"
    }
   ],
   "source": [
    "ebola_melt['str_split'] = ebola_melt.type_country.str.split('_')\n",
    "# We create a new column str_split, this is to enable us seperate the type and the country by _ \n",
    "ebola_melt.head()"
   ]
  },
  {
   "cell_type": "code",
   "execution_count": 24,
   "metadata": {},
   "outputs": [
    {
     "data": {
      "text/html": [
       "<div>\n",
       "<style scoped>\n",
       "    .dataframe tbody tr th:only-of-type {\n",
       "        vertical-align: middle;\n",
       "    }\n",
       "\n",
       "    .dataframe tbody tr th {\n",
       "        vertical-align: top;\n",
       "    }\n",
       "\n",
       "    .dataframe thead th {\n",
       "        text-align: right;\n",
       "    }\n",
       "</style>\n",
       "<table border=\"1\" class=\"dataframe\">\n",
       "  <thead>\n",
       "    <tr style=\"text-align: right;\">\n",
       "      <th></th>\n",
       "      <th>Date</th>\n",
       "      <th>Day</th>\n",
       "      <th>type_country</th>\n",
       "      <th>counts</th>\n",
       "      <th>str_split</th>\n",
       "      <th>country</th>\n",
       "      <th>type</th>\n",
       "    </tr>\n",
       "  </thead>\n",
       "  <tbody>\n",
       "    <tr>\n",
       "      <th>0</th>\n",
       "      <td>1/5/2015</td>\n",
       "      <td>289</td>\n",
       "      <td>Cases_Guinea</td>\n",
       "      <td>2776.0</td>\n",
       "      <td>[Cases, Guinea]</td>\n",
       "      <td>Guinea</td>\n",
       "      <td>Cases</td>\n",
       "    </tr>\n",
       "    <tr>\n",
       "      <th>1</th>\n",
       "      <td>1/4/2015</td>\n",
       "      <td>288</td>\n",
       "      <td>Cases_Guinea</td>\n",
       "      <td>2775.0</td>\n",
       "      <td>[Cases, Guinea]</td>\n",
       "      <td>Guinea</td>\n",
       "      <td>Cases</td>\n",
       "    </tr>\n",
       "    <tr>\n",
       "      <th>2</th>\n",
       "      <td>1/3/2015</td>\n",
       "      <td>287</td>\n",
       "      <td>Cases_Guinea</td>\n",
       "      <td>2769.0</td>\n",
       "      <td>[Cases, Guinea]</td>\n",
       "      <td>Guinea</td>\n",
       "      <td>Cases</td>\n",
       "    </tr>\n",
       "    <tr>\n",
       "      <th>3</th>\n",
       "      <td>1/2/2015</td>\n",
       "      <td>286</td>\n",
       "      <td>Cases_Guinea</td>\n",
       "      <td>NaN</td>\n",
       "      <td>[Cases, Guinea]</td>\n",
       "      <td>Guinea</td>\n",
       "      <td>Cases</td>\n",
       "    </tr>\n",
       "    <tr>\n",
       "      <th>4</th>\n",
       "      <td>12/31/2014</td>\n",
       "      <td>284</td>\n",
       "      <td>Cases_Guinea</td>\n",
       "      <td>2730.0</td>\n",
       "      <td>[Cases, Guinea]</td>\n",
       "      <td>Guinea</td>\n",
       "      <td>Cases</td>\n",
       "    </tr>\n",
       "  </tbody>\n",
       "</table>\n",
       "</div>"
      ],
      "text/plain": [
       "         Date  Day  type_country  counts        str_split country   type\n",
       "0    1/5/2015  289  Cases_Guinea  2776.0  [Cases, Guinea]  Guinea  Cases\n",
       "1    1/4/2015  288  Cases_Guinea  2775.0  [Cases, Guinea]  Guinea  Cases\n",
       "2    1/3/2015  287  Cases_Guinea  2769.0  [Cases, Guinea]  Guinea  Cases\n",
       "3    1/2/2015  286  Cases_Guinea     NaN  [Cases, Guinea]  Guinea  Cases\n",
       "4  12/31/2014  284  Cases_Guinea  2730.0  [Cases, Guinea]  Guinea  Cases"
      ]
     },
     "execution_count": 24,
     "metadata": {},
     "output_type": "execute_result"
    }
   ],
   "source": [
    "ebola_melt['country'] = ebola_melt.str_split.str.get(1)\n",
    "# We create a new column and call it country, it's gotten from spliting the str_split column and getting the second variable\n",
    "ebola_melt['type'] = ebola_melt.str_split.str.get(0)\n",
    "# Another new column and call type, gotten from the str_split column getting the first variable\n",
    "ebola_melt.head()"
   ]
  },
  {
   "cell_type": "code",
   "execution_count": 25,
   "metadata": {},
   "outputs": [
    {
     "data": {
      "text/html": [
       "<div>\n",
       "<style scoped>\n",
       "    .dataframe tbody tr th:only-of-type {\n",
       "        vertical-align: middle;\n",
       "    }\n",
       "\n",
       "    .dataframe tbody tr th {\n",
       "        vertical-align: top;\n",
       "    }\n",
       "\n",
       "    .dataframe thead th {\n",
       "        text-align: right;\n",
       "    }\n",
       "</style>\n",
       "<table border=\"1\" class=\"dataframe\">\n",
       "  <thead>\n",
       "    <tr style=\"text-align: right;\">\n",
       "      <th></th>\n",
       "      <th>Date</th>\n",
       "      <th>Day</th>\n",
       "      <th>type_country</th>\n",
       "      <th>counts</th>\n",
       "      <th>str_split</th>\n",
       "      <th>country</th>\n",
       "      <th>type</th>\n",
       "    </tr>\n",
       "  </thead>\n",
       "  <tbody>\n",
       "    <tr>\n",
       "      <th>1947</th>\n",
       "      <td>3/27/2014</td>\n",
       "      <td>5</td>\n",
       "      <td>Deaths_Mali</td>\n",
       "      <td>NaN</td>\n",
       "      <td>[Deaths, Mali]</td>\n",
       "      <td>Mali</td>\n",
       "      <td>Deaths</td>\n",
       "    </tr>\n",
       "    <tr>\n",
       "      <th>1948</th>\n",
       "      <td>3/26/2014</td>\n",
       "      <td>4</td>\n",
       "      <td>Deaths_Mali</td>\n",
       "      <td>NaN</td>\n",
       "      <td>[Deaths, Mali]</td>\n",
       "      <td>Mali</td>\n",
       "      <td>Deaths</td>\n",
       "    </tr>\n",
       "    <tr>\n",
       "      <th>1949</th>\n",
       "      <td>3/25/2014</td>\n",
       "      <td>3</td>\n",
       "      <td>Deaths_Mali</td>\n",
       "      <td>NaN</td>\n",
       "      <td>[Deaths, Mali]</td>\n",
       "      <td>Mali</td>\n",
       "      <td>Deaths</td>\n",
       "    </tr>\n",
       "    <tr>\n",
       "      <th>1950</th>\n",
       "      <td>3/24/2014</td>\n",
       "      <td>2</td>\n",
       "      <td>Deaths_Mali</td>\n",
       "      <td>NaN</td>\n",
       "      <td>[Deaths, Mali]</td>\n",
       "      <td>Mali</td>\n",
       "      <td>Deaths</td>\n",
       "    </tr>\n",
       "    <tr>\n",
       "      <th>1951</th>\n",
       "      <td>3/22/2014</td>\n",
       "      <td>0</td>\n",
       "      <td>Deaths_Mali</td>\n",
       "      <td>NaN</td>\n",
       "      <td>[Deaths, Mali]</td>\n",
       "      <td>Mali</td>\n",
       "      <td>Deaths</td>\n",
       "    </tr>\n",
       "  </tbody>\n",
       "</table>\n",
       "</div>"
      ],
      "text/plain": [
       "           Date  Day type_country  counts       str_split country    type\n",
       "1947  3/27/2014    5  Deaths_Mali     NaN  [Deaths, Mali]    Mali  Deaths\n",
       "1948  3/26/2014    4  Deaths_Mali     NaN  [Deaths, Mali]    Mali  Deaths\n",
       "1949  3/25/2014    3  Deaths_Mali     NaN  [Deaths, Mali]    Mali  Deaths\n",
       "1950  3/24/2014    2  Deaths_Mali     NaN  [Deaths, Mali]    Mali  Deaths\n",
       "1951  3/22/2014    0  Deaths_Mali     NaN  [Deaths, Mali]    Mali  Deaths"
      ]
     },
     "execution_count": 25,
     "metadata": {},
     "output_type": "execute_result"
    }
   ],
   "source": [
    "ebola_melt.tail()"
   ]
  },
  {
   "cell_type": "markdown",
   "metadata": {},
   "source": [
    "Seeing the output from the code we ran, we can see that our data set is now tidy and much better for analysis. "
   ]
  },
  {
   "cell_type": "markdown",
   "metadata": {},
   "source": [
    "# 7 Combining suitable data sets. "
   ]
  },
  {
   "cell_type": "code",
   "execution_count": 26,
   "metadata": {},
   "outputs": [
    {
     "name": "stdout",
     "output_type": "stream",
     "text": [
      "['Budget.country.xlsx', 'Age.country.xlsx', 'Population.country.xlsx']\n"
     ]
    }
   ],
   "source": [
    "import glob \n",
    "# We import the glob function\n",
    "pattern = '*country.xlsx'\n",
    "# The pattern datafiles we want to join should contain.\n",
    "excel_files = glob.glob(pattern)\n",
    "# Find the pattern and save it in excel_files\n",
    "print(excel_files)\n"
   ]
  },
  {
   "cell_type": "markdown",
   "metadata": {},
   "source": [
    "As we can see python has found 3 data files that contains the pattern we were looking for\n",
    "\n",
    "\n",
    "Let us view the three data files before concatenating."
   ]
  },
  {
   "cell_type": "code",
   "execution_count": 29,
   "metadata": {},
   "outputs": [
    {
     "name": "stdout",
     "output_type": "stream",
     "text": [
      "         COUNTRY  BUDGET\n",
      "0        Nigeria    5000\n",
      "1          Ghana    4500\n",
      "2  South Africa     5500\n",
      "3          Egypt    5000\n"
     ]
    }
   ],
   "source": [
    "print(pd.read_excel('Budget.country.xlsx'))"
   ]
  },
  {
   "cell_type": "code",
   "execution_count": 31,
   "metadata": {},
   "outputs": [
    {
     "name": "stdout",
     "output_type": "stream",
     "text": [
      "         COUNTRY  AVG. AGE\n",
      "0        Nigeria        75\n",
      "1          Ghana        80\n",
      "2  South Africa         76\n",
      "3          Egypt        84\n"
     ]
    }
   ],
   "source": [
    "print(pd.read_excel('Age.country.xlsx'))"
   ]
  },
  {
   "cell_type": "code",
   "execution_count": 32,
   "metadata": {},
   "outputs": [
    {
     "name": "stdout",
     "output_type": "stream",
     "text": [
      "         COUNTRY  POPULATION\n",
      "0        Nigeria      120000\n",
      "1          Ghana      100000\n",
      "2  South Africa       150000\n",
      "3          Egypt       90000\n"
     ]
    }
   ],
   "source": [
    "print(pd.read_excel('Population.country.xlsx'))"
   ]
  },
  {
   "cell_type": "code",
   "execution_count": 27,
   "metadata": {},
   "outputs": [
    {
     "name": "stdout",
     "output_type": "stream",
     "text": [
      "['Budget.country.xlsx', 'Age.country.xlsx', 'Population.country.xlsx']\n"
     ]
    }
   ],
   "source": [
    "import pandas as pd\n",
    "country_files = excel_files\n",
    "#  Saving the excel_files in country_files\n",
    "print(country_files)\n",
    "\n",
    "    "
   ]
  },
  {
   "cell_type": "code",
   "execution_count": 28,
   "metadata": {},
   "outputs": [
    {
     "name": "stdout",
     "output_type": "stream",
     "text": [
      "         COUNTRY  BUDGET        COUNTRY  AVG. AGE        COUNTRY  POPULATION\n",
      "0        Nigeria    5000        Nigeria        75        Nigeria      120000\n",
      "1          Ghana    4500          Ghana        80          Ghana      100000\n",
      "2  South Africa     5500  South Africa         76  South Africa       150000\n",
      "3          Egypt    5000          Egypt        84          Egypt       90000\n"
     ]
    }
   ],
   "source": [
    "frames = []\n",
    "# We are starting with an empty list\n",
    "for file in country_files:\n",
    "    # use a for loop in country_files \n",
    "    data = pd.read_excel(file)\n",
    "    # use the pandas read function to read from file in the country_files and store it in data \n",
    "    frames.append(data)\n",
    "    # append the data to the empty list \n",
    "\n",
    "final = pd.concat(frames, axis=1)\n",
    "# concatenate the datafiles, along columns, that is why axis= 1\n",
    "\n",
    "print(final)\n",
    "    "
   ]
  },
  {
   "cell_type": "markdown",
   "metadata": {},
   "source": [
    "From our result, we can see that we have been able to concatenate the three data files."
   ]
  },
  {
   "cell_type": "markdown",
   "metadata": {},
   "source": [
    "# 8. Handling inconsistent data enteries \n"
   ]
  },
  {
   "cell_type": "code",
   "execution_count": 40,
   "metadata": {},
   "outputs": [
    {
     "name": "stdout",
     "output_type": "stream",
     "text": [
      "          COUNTRY  RATE\n",
      "0         Uganda   0.17\n",
      "1        cameroon  0.18\n",
      "2        cameroon  0.18\n",
      "3         NIGERIA  0.19\n",
      "4         SENEGAL  0.16\n",
      "5           ghana  0.19\n",
      "6           Egypt  0.20\n",
      "7    South africa  0.19\n",
      "8    South Africa  0.19\n",
      "9         Nigeria  0.19\n",
      "10  Sou.th Africa  0.19\n",
      "11          Ghana  0.19\n"
     ]
    }
   ],
   "source": [
    "rate = pd.read_csv('Country rates.csv')\n",
    "print(rate)"
   ]
  },
  {
   "cell_type": "code",
   "execution_count": 41,
   "metadata": {},
   "outputs": [
    {
     "data": {
      "text/plain": [
       "array(['Egypt', 'Ghana', 'NIGERIA', 'Nigeria', 'SENEGAL', 'Sou.th Africa',\n",
       "       'South Africa', 'South africa', 'Uganda ', 'cameroon', 'ghana'],\n",
       "      dtype=object)"
      ]
     },
     "execution_count": 41,
     "metadata": {},
     "output_type": "execute_result"
    }
   ],
   "source": [
    "real = rate.COUNTRY.unique()\n",
    "real.sort()\n",
    "real"
   ]
  },
  {
   "cell_type": "markdown",
   "metadata": {},
   "source": [
    "From the output we can there's a lot of inconsistent data, NIGERIA and Nigeria is meant to be the same and so amny others, but are stored as different variable. The code example below will show us how to handle inconsistent data.\n"
   ]
  },
  {
   "cell_type": "code",
   "execution_count": 42,
   "metadata": {},
   "outputs": [
    {
     "data": {
      "text/plain": [
       "array(['cameroon', 'egypt', 'ghana', 'nigeria', 'senegal',\n",
       "       'sou.th africa', 'south africa', 'uganda'], dtype=object)"
      ]
     },
     "execution_count": 42,
     "metadata": {},
     "output_type": "execute_result"
    }
   ],
   "source": [
    "rate.COUNTRY = rate.COUNTRY.str.lower()\n",
    "# we covert to lower case \n",
    "\n",
    "rate.COUNTRY = rate.COUNTRY.str.strip()\n",
    "# we remove all white spaces \n",
    "real = rate.COUNTRY.unique()\n",
    "real.sort()\n",
    "real\n"
   ]
  },
  {
   "cell_type": "markdown",
   "metadata": {},
   "source": [
    "Here we can see Nigeria is now consistent, but we still have inconsistent variables such as sou.th africa and south africa. We will handle this inconsistencies in the next code examples."
   ]
  },
  {
   "cell_type": "code",
   "execution_count": 44,
   "metadata": {},
   "outputs": [],
   "source": [
    "# Replace entries that contain 'sou.th africa' with 'south africa'\n",
    "consistent = rate.COUNTRY.isin(['sou.th africa'])\n",
    "rate.loc[consistent, 'COUNTRY'] = 'south africa'"
   ]
  },
  {
   "cell_type": "code",
   "execution_count": 45,
   "metadata": {},
   "outputs": [
    {
     "data": {
      "text/plain": [
       "array(['cameroon', 'egypt', 'ghana', 'nigeria', 'senegal', 'south africa',\n",
       "       'uganda'], dtype=object)"
      ]
     },
     "execution_count": 45,
     "metadata": {},
     "output_type": "execute_result"
    }
   ],
   "source": [
    "real = rate.COUNTRY.unique()\n",
    "real.sort()\n",
    "real\n"
   ]
  },
  {
   "cell_type": "markdown",
   "metadata": {},
   "source": [
    "Nice, now you can see we have been able to unify the inconsistencies in the data set."
   ]
  },
  {
   "cell_type": "markdown",
   "metadata": {},
   "source": [
    "# 9. String Manipulation"
   ]
  },
  {
   "cell_type": "code",
   "execution_count": 46,
   "metadata": {},
   "outputs": [],
   "source": [
    "# import the necessary libraries \n",
    "import re \n",
    "from numpy import NaN"
   ]
  },
  {
   "cell_type": "code",
   "execution_count": 47,
   "metadata": {},
   "outputs": [
    {
     "name": "stdout",
     "output_type": "stream",
     "text": [
      "         JOB  DOC         BOROUGH INITIAL COST TOTAL EST. FEE\n",
      "0  121577873    2       Manhattan       $75000           $798\n",
      "1  121577874    1    Rhode Island       $85000           $799\n",
      "2  121577875    1  Washington D.C       $70000           $800\n",
      "3  121577876    2       Manhattan      $125000           $801\n",
      "4  121577877    2       Manhattan      $100000           $802\n",
      "5  121577878    3        Florida        $75000           $803\n",
      "6  121577879    2      California       $75000           $804\n",
      "7  121577880    1    Rhode Island       $60000           $805\n",
      "8  121577881    2      California       $55000           $806\n",
      "9  121577882    1  Washington D.C       $74000           $807\n",
      "<class 'pandas.core.frame.DataFrame'>\n",
      "RangeIndex: 10 entries, 0 to 9\n",
      "Data columns (total 5 columns):\n",
      "JOB               10 non-null int64\n",
      "DOC               10 non-null int64\n",
      "BOROUGH           10 non-null object\n",
      "INITIAL COST      10 non-null object\n",
      "TOTAL EST. FEE    10 non-null object\n",
      "dtypes: int64(2), object(3)\n",
      "memory usage: 480.0+ bytes\n"
     ]
    }
   ],
   "source": [
    "living = pd.read_excel('Living Costs.xlsx')\n",
    "print(living)\n",
    "living.info()"
   ]
  },
  {
   "cell_type": "markdown",
   "metadata": {},
   "source": [
    "What we wanna do here is to subtract the difference between Initial cost and total estimated revenue and store in column called difference."
   ]
  },
  {
   "cell_type": "code",
   "execution_count": 48,
   "metadata": {},
   "outputs": [
    {
     "name": "stdout",
     "output_type": "stream",
     "text": [
      "         JOB  DOC         BOROUGH INITIAL COST TOTAL EST. FEE  Difference\n",
      "0  121577873    2       Manhattan       $75000           $798       74202\n",
      "1  121577874    1    Rhode Island       $85000           $799       84201\n",
      "2  121577875    1  Washington D.C       $70000           $800       69200\n",
      "3  121577876    2       Manhattan      $125000           $801      124199\n",
      "4  121577877    2       Manhattan      $100000           $802       99198\n",
      "5  121577878    3        Florida        $75000           $803       74197\n",
      "6  121577879    2      California       $75000           $804       74196\n",
      "7  121577880    1    Rhode Island       $60000           $805       59195\n",
      "8  121577881    2      California       $55000           $806       54194\n",
      "9  121577882    1  Washington D.C       $74000           $807       73193\n"
     ]
    }
   ],
   "source": [
    "pattern = re.compile('\\$\\d*')\n",
    "# we compile the pattern, the pattern recognises the $ sign as a monetery value and integer \n",
    "def diff_money(row, pattern):\n",
    "\n",
    "    icost = row['INITIAL COST']\n",
    "    tef = row['TOTAL EST. FEE']\n",
    "    \n",
    "    if bool(pattern.match(icost)) and bool(pattern.match(tef)):\n",
    "        \n",
    "        icost = icost.replace('$','')\n",
    "        tef = tef.replace('$','')\n",
    "        #replace the $ sign with a whitespace ''\n",
    "        icost = int(icost)\n",
    "        tef = int(tef)\n",
    "        #save as a numeric value\n",
    "        return icost - tef \n",
    "    else:\n",
    "        return(NaN)\n",
    "    \n",
    "living['Difference'] = living.apply(diff_money,axis=1,pattern=pattern)\n",
    "#apply it to the diff_money function, along the column and store it as difference.\n",
    "\n",
    "print(living)\n",
    "      "
   ]
  },
  {
   "cell_type": "markdown",
   "metadata": {},
   "source": [
    "So you can, we've been able to subtract the Total estimated fee from the initial cost without the '$' and datatype affecting our subtraction. This shows the power of string manipulation."
   ]
  },
  {
   "cell_type": "markdown",
   "metadata": {},
   "source": [
    "# 10. Missing Data\n",
    "In this code example, we are going to show how to fill up missing data with test statistic.\n",
    "We are going to be using the melted ebola data file.\n"
   ]
  },
  {
   "cell_type": "code",
   "execution_count": 49,
   "metadata": {},
   "outputs": [
    {
     "data": {
      "text/html": [
       "<div>\n",
       "<style scoped>\n",
       "    .dataframe tbody tr th:only-of-type {\n",
       "        vertical-align: middle;\n",
       "    }\n",
       "\n",
       "    .dataframe tbody tr th {\n",
       "        vertical-align: top;\n",
       "    }\n",
       "\n",
       "    .dataframe thead th {\n",
       "        text-align: right;\n",
       "    }\n",
       "</style>\n",
       "<table border=\"1\" class=\"dataframe\">\n",
       "  <thead>\n",
       "    <tr style=\"text-align: right;\">\n",
       "      <th></th>\n",
       "      <th>Date</th>\n",
       "      <th>Day</th>\n",
       "      <th>type_country</th>\n",
       "      <th>counts</th>\n",
       "      <th>str_split</th>\n",
       "      <th>country</th>\n",
       "      <th>type</th>\n",
       "    </tr>\n",
       "  </thead>\n",
       "  <tbody>\n",
       "    <tr>\n",
       "      <th>0</th>\n",
       "      <td>1/5/2015</td>\n",
       "      <td>289</td>\n",
       "      <td>Cases_Guinea</td>\n",
       "      <td>2776.0</td>\n",
       "      <td>[Cases, Guinea]</td>\n",
       "      <td>Guinea</td>\n",
       "      <td>Cases</td>\n",
       "    </tr>\n",
       "    <tr>\n",
       "      <th>1</th>\n",
       "      <td>1/4/2015</td>\n",
       "      <td>288</td>\n",
       "      <td>Cases_Guinea</td>\n",
       "      <td>2775.0</td>\n",
       "      <td>[Cases, Guinea]</td>\n",
       "      <td>Guinea</td>\n",
       "      <td>Cases</td>\n",
       "    </tr>\n",
       "    <tr>\n",
       "      <th>2</th>\n",
       "      <td>1/3/2015</td>\n",
       "      <td>287</td>\n",
       "      <td>Cases_Guinea</td>\n",
       "      <td>2769.0</td>\n",
       "      <td>[Cases, Guinea]</td>\n",
       "      <td>Guinea</td>\n",
       "      <td>Cases</td>\n",
       "    </tr>\n",
       "    <tr>\n",
       "      <th>3</th>\n",
       "      <td>1/2/2015</td>\n",
       "      <td>286</td>\n",
       "      <td>Cases_Guinea</td>\n",
       "      <td>NaN</td>\n",
       "      <td>[Cases, Guinea]</td>\n",
       "      <td>Guinea</td>\n",
       "      <td>Cases</td>\n",
       "    </tr>\n",
       "    <tr>\n",
       "      <th>4</th>\n",
       "      <td>12/31/2014</td>\n",
       "      <td>284</td>\n",
       "      <td>Cases_Guinea</td>\n",
       "      <td>2730.0</td>\n",
       "      <td>[Cases, Guinea]</td>\n",
       "      <td>Guinea</td>\n",
       "      <td>Cases</td>\n",
       "    </tr>\n",
       "  </tbody>\n",
       "</table>\n",
       "</div>"
      ],
      "text/plain": [
       "         Date  Day  type_country  counts        str_split country   type\n",
       "0    1/5/2015  289  Cases_Guinea  2776.0  [Cases, Guinea]  Guinea  Cases\n",
       "1    1/4/2015  288  Cases_Guinea  2775.0  [Cases, Guinea]  Guinea  Cases\n",
       "2    1/3/2015  287  Cases_Guinea  2769.0  [Cases, Guinea]  Guinea  Cases\n",
       "3    1/2/2015  286  Cases_Guinea     NaN  [Cases, Guinea]  Guinea  Cases\n",
       "4  12/31/2014  284  Cases_Guinea  2730.0  [Cases, Guinea]  Guinea  Cases"
      ]
     },
     "execution_count": 49,
     "metadata": {},
     "output_type": "execute_result"
    }
   ],
   "source": [
    "ebola_melt.head()"
   ]
  },
  {
   "cell_type": "code",
   "execution_count": 50,
   "metadata": {},
   "outputs": [
    {
     "name": "stdout",
     "output_type": "stream",
     "text": [
      "937.9132791327913\n"
     ]
    }
   ],
   "source": [
    "mean_value = ebola_melt['counts'].mean()\n",
    "print(mean_value)"
   ]
  },
  {
   "cell_type": "code",
   "execution_count": 53,
   "metadata": {},
   "outputs": [
    {
     "name": "stdout",
     "output_type": "stream",
     "text": [
      "<class 'pandas.core.frame.DataFrame'>\n",
      "RangeIndex: 1952 entries, 0 to 1951\n",
      "Data columns (total 7 columns):\n",
      "Date            1952 non-null object\n",
      "Day             1952 non-null int64\n",
      "type_country    1952 non-null object\n",
      "counts          1952 non-null float64\n",
      "str_split       1952 non-null object\n",
      "country         1952 non-null object\n",
      "type            1952 non-null object\n",
      "dtypes: float64(1), int64(1), object(5)\n",
      "memory usage: 106.8+ KB\n"
     ]
    }
   ],
   "source": [
    "ebola_melt['counts'] = ebola_melt['counts'].fillna(mean_value)\n",
    "ebola_melt.info()"
   ]
  },
  {
   "cell_type": "markdown",
   "metadata": {},
   "source": [
    "We have filled all the missing values in the count column\n"
   ]
  },
  {
   "cell_type": "markdown",
   "metadata": {},
   "source": [
    "# 11. Assert Statement"
   ]
  },
  {
   "cell_type": "code",
   "execution_count": 54,
   "metadata": {},
   "outputs": [],
   "source": [
    "assert (pd.notnull(ebola_melt['counts']).all().all())"
   ]
  },
  {
   "cell_type": "markdown",
   "metadata": {},
   "source": [
    "We are checking if the counts column contains any NaN value, it returns nothing meaning it does not contain any NaN value"
   ]
  }
 ],
 "metadata": {
  "kernelspec": {
   "display_name": "Python 3",
   "language": "python",
   "name": "python3"
  },
  "language_info": {
   "codemirror_mode": {
    "name": "ipython",
    "version": 3
   },
   "file_extension": ".py",
   "mimetype": "text/x-python",
   "name": "python",
   "nbconvert_exporter": "python",
   "pygments_lexer": "ipython3",
   "version": "3.6.4"
  }
 },
 "nbformat": 4,
 "nbformat_minor": 2
}
